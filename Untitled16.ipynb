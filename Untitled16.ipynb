{
 "cells": [
  {
   "cell_type": "markdown",
   "metadata": {},
   "source": [
    "# markdown\n",
    "\n"
   ]
  },
  {
   "cell_type": "markdown",
   "metadata": {},
   "source": [
    "## markdown"
   ]
  },
  {
   "cell_type": "markdown",
   "metadata": {},
   "source": [
    "insert site address"
   ]
  },
  {
   "cell_type": "markdown",
   "metadata": {},
   "source": [
    "![site](data:image/jpeg;base64,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)"
   ]
  },
  {
   "cell_type": "code",
   "execution_count": 3,
   "metadata": {},
   "outputs": [],
   "source": [
    "x=10"
   ]
  },
  {
   "cell_type": "code",
   "execution_count": 4,
   "metadata": {},
   "outputs": [],
   "source": [
    "y=5"
   ]
  },
  {
   "cell_type": "code",
   "execution_count": 5,
   "metadata": {},
   "outputs": [
    {
     "data": {
      "text/plain": [
       "15"
      ]
     },
     "execution_count": 5,
     "metadata": {},
     "output_type": "execute_result"
    }
   ],
   "source": [
    "x+y"
   ]
  },
  {
   "cell_type": "code",
   "execution_count": 6,
   "metadata": {},
   "outputs": [],
   "source": [
    "name= \"rohan\""
   ]
  },
  {
   "cell_type": "code",
   "execution_count": 7,
   "metadata": {},
   "outputs": [],
   "source": [
    "age=19"
   ]
  },
  {
   "cell_type": "code",
   "execution_count": 8,
   "metadata": {},
   "outputs": [
    {
     "name": "stdout",
     "output_type": "stream",
     "text": [
      "my name is rohan age is 19\n"
     ]
    }
   ],
   "source": [
    "print(\"my name is\",name,\"age is\",age)"
   ]
  },
  {
   "cell_type": "code",
   "execution_count": 1,
   "metadata": {},
   "outputs": [
    {
     "name": "stdout",
     "output_type": "stream",
     "text": [
      "enter value3\n",
      "enter value2\n",
      "x+y is 5 x-y is 1 x%y is 1 x*y is 6\n"
     ]
    }
   ],
   "source": [
    "x=int(input(\"enter value\"))\n",
    "y=int(input(\"enter value\"))\n",
    "print(\"x+y is\",x+y,\"x-y is\",x-y,\"x%y is\",x%y,\"x*y is\",x*y)"
   ]
  },
  {
   "cell_type": "code",
   "execution_count": 2,
   "metadata": {},
   "outputs": [
    {
     "name": "stdout",
     "output_type": "stream",
     "text": [
      "<class 'str'>\n",
      "<class 'str'>\n"
     ]
    }
   ],
   "source": [
    "s1=\"abcd\"\n",
    "s2=\"1234\"\n",
    "print(type(s1))\n",
    "print(type(s2))"
   ]
  },
  {
   "cell_type": "code",
   "execution_count": 3,
   "metadata": {},
   "outputs": [
    {
     "name": "stdout",
     "output_type": "stream",
     "text": [
      "<class 'int'>\n",
      "<class 'str'>\n",
      "<class 'float'>\n"
     ]
    }
   ],
   "source": [
    "i=532\n",
    "print(type(1))\n",
    "s1=str(i)\n",
    "print(type(s1))\n",
    "f1=float(i)\n",
    "print(type(f1))"
   ]
  },
  {
   "cell_type": "code",
   "execution_count": 5,
   "metadata": {},
   "outputs": [
    {
     "name": "stdout",
     "output_type": "stream",
     "text": [
      "6\n"
     ]
    }
   ],
   "source": [
    "a=str(123456)\n",
    "print(len(a))"
   ]
  },
  {
   "cell_type": "code",
   "execution_count": 2,
   "metadata": {},
   "outputs": [
    {
     "name": "stdout",
     "output_type": "stream",
     "text": [
      "100\n",
      "20 20 20\n",
      "123 234 345\n"
     ]
    }
   ],
   "source": [
    "n1=100\n",
    "a=b=c=20\n",
    "a1,b1,c1=123,234,345\n",
    "print(n1)\n",
    "print(a,b,c)\n",
    "print(a1,b1,c1)"
   ]
  },
  {
   "cell_type": "markdown",
   "metadata": {},
   "source": [
    "# operators\n",
    "## arithmetic operators\n",
    "- +\n",
    "- - \n",
    "- *\n",
    "- /\n",
    "- %\n",
    "- **\n",
    "- //"
   ]
  },
  {
   "cell_type": "code",
   "execution_count": 4,
   "metadata": {},
   "outputs": [
    {
     "name": "stdout",
     "output_type": "stream",
     "text": [
      "10.0\n"
     ]
    }
   ],
   "source": [
    "x=34-2**5/4*5+16\n",
    "print(x)"
   ]
  },
  {
   "cell_type": "markdown",
   "metadata": {},
   "source": [
    "# Relational operators\n",
    "- ==\n",
    "- !=\n",
    "- '>'\n",
    "- <\n",
    "- <=\n",
    "- =>\n"
   ]
  },
  {
   "cell_type": "code",
   "execution_count": 5,
   "metadata": {},
   "outputs": [
    {
     "name": "stdout",
     "output_type": "stream",
     "text": [
      "2\n",
      "0\n"
     ]
    }
   ],
   "source": [
    "a=10\n",
    "b=5\n",
    "print(a//b)\n",
    "print(a%b)"
   ]
  },
  {
   "cell_type": "markdown",
   "metadata": {},
   "source": [
    "# logical operators\n",
    "- and\n",
    "- or\n",
    "- not"
   ]
  },
  {
   "cell_type": "code",
   "execution_count": 7,
   "metadata": {},
   "outputs": [
    {
     "name": "stdout",
     "output_type": "stream",
     "text": [
      "False\n"
     ]
    }
   ],
   "source": [
    "i=100\n",
    "a1=(i>150 and i<40)\n",
    "print(a1)"
   ]
  },
  {
   "cell_type": "markdown",
   "metadata": {},
   "source": [
    "# membership operator\n",
    "- in\n",
    "- not in"
   ]
  },
  {
   "cell_type": "code",
   "execution_count": 8,
   "metadata": {},
   "outputs": [
    {
     "name": "stdout",
     "output_type": "stream",
     "text": [
      "True\n",
      "False\n"
     ]
    }
   ],
   "source": [
    "str1=\"abc\"\n",
    "print(\"a\" in str1)\n",
    "print(\"a\" not in str1)"
   ]
  },
  {
   "cell_type": "markdown",
   "metadata": {},
   "source": [
    "# control flow statements\n",
    "- conditional statements\n",
    "- looping statements\n",
    "- if else statements\n",
    "  - syntax if condition\n",
    "        statement(if)\n",
    "          "
   ]
  },
  {
   "cell_type": "code",
   "execution_count": 14,
   "metadata": {},
   "outputs": [
    {
     "name": "stdout",
     "output_type": "stream",
     "text": [
      "enter a number15\n",
      "yes\n"
     ]
    }
   ],
   "source": [
    "# check given number is perfectly multiple of 3 and 5\n",
    "n=int(input(\"enter a number\"))\n",
    "if n%3==0 and n%5==0:\n",
    "    print(\"yes\")\n",
    "else:\n",
    "    print(\"no\")"
   ]
  },
  {
   "cell_type": "code",
   "execution_count": 15,
   "metadata": {},
   "outputs": [
    {
     "ename": "SyntaxError",
     "evalue": "invalid syntax (<ipython-input-15-1eea847f61dd>, line 3)",
     "output_type": "error",
     "traceback": [
      "\u001b[1;36m  File \u001b[1;32m\"<ipython-input-15-1eea847f61dd>\"\u001b[1;36m, line \u001b[1;32m3\u001b[0m\n\u001b[1;33m    if n>0=positive,n<0=negative,n=0=zero:\u001b[0m\n\u001b[1;37m          ^\u001b[0m\n\u001b[1;31mSyntaxError\u001b[0m\u001b[1;31m:\u001b[0m invalid syntax\n"
     ]
    }
   ],
   "source": [
    "# check given number is positive,negative or zero\n",
    "n=int(input(\"enter a number\"))\n",
    "if n>0=positive,n<0=negative:\n",
    "     print(\"\")"
   ]
  },
  {
   "cell_type": "code",
   "execution_count": null,
   "metadata": {},
   "outputs": [],
   "source": []
  }
 ],
 "metadata": {
  "kernelspec": {
   "display_name": "Python 3",
   "language": "python",
   "name": "python3"
  },
  "language_info": {
   "codemirror_mode": {
    "name": "ipython",
    "version": 3
   },
   "file_extension": ".py",
   "mimetype": "text/x-python",
   "name": "python",
   "nbconvert_exporter": "python",
   "pygments_lexer": "ipython3",
   "version": "3.7.3"
  }
 },
 "nbformat": 4,
 "nbformat_minor": 2
}
