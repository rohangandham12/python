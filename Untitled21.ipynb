{
 "cells": [
  {
   "cell_type": "code",
   "execution_count": null,
   "metadata": {},
   "outputs": [],
   "source": [
    "#largest integer \n",
    "#include<limits.h>\n",
    "void main()\n",
    "{\n",
    "    int a;\n",
    "    a=INT_MIN;\n",
    "    printf(\"%d\",a);\n",
    "}"
   ]
  },
  {
   "cell_type": "code",
   "execution_count": null,
   "metadata": {},
   "outputs": [],
   "source": [
    "#smallest integer\n",
    "#include<limits.h>\n",
    "void main()\n",
    "{\n",
    "    int a;\n",
    "    a=INT_MAX;\n",
    "    printf(\"%d\",a);\n",
    "}"
   ]
  },
  {
   "cell_type": "code",
   "execution_count": null,
   "metadata": {},
   "outputs": [],
   "source": [
    "#ascii values\n",
    "void main()\n",
    "{\n",
    "    int i=65;\n",
    "    for(i=65;i<=90;i++)\n",
    "    printf(\"%c=%d\",i,i);\n",
    "}"
   ]
  },
  {
   "cell_type": "code",
   "execution_count": null,
   "metadata": {},
   "outputs": [],
   "source": [
    "#ascii values\n",
    "void main()\n",
    "{\n",
    "    int i=65;\n",
    "    for(i=65;i<=200;i++)\n",
    "    printf(\"%c=%d\",i,i);\n",
    "}"
   ]
  },
  {
   "cell_type": "code",
   "execution_count": null,
   "metadata": {},
   "outputs": [],
   "source": [
    "#ascii values\n",
    "void main()\n",
    "{\n",
    "printf(\"%d\",'+');\n",
    "}"
   ]
  },
  {
   "cell_type": "code",
   "execution_count": null,
   "metadata": {},
   "outputs": [],
   "source": [
    "#replace\n",
    "void main()\n",
    "{\n",
    "printf(\"abcd\\rxyz\");\n",
    "}"
   ]
  },
  {
   "cell_type": "code",
   "execution_count": null,
   "metadata": {},
   "outputs": [],
   "source": [
    "#backslash\n",
    "void main()\n",
    "{\n",
    "printf(\"abcd\\\\rxyz\");\n",
    "}"
   ]
  },
  {
   "cell_type": "code",
   "execution_count": null,
   "metadata": {},
   "outputs": [],
   "source": [
    "#hexadecimal\n",
    "void main()\n",
    "{\n",
    "int i=29;    \n",
    "printf(\"%x\",i);\n",
    "}\n",
    "\n"
   ]
  },
  {
   "cell_type": "code",
   "execution_count": null,
   "metadata": {},
   "outputs": [],
   "source": [
    "void main()\n",
    "{\n",
    "    int b,a=5;\n",
    "    b=++a;\n",
    "    printf(\"%d %d\",a,b);\n",
    "}"
   ]
  },
  {
   "cell_type": "code",
   "execution_count": null,
   "metadata": {},
   "outputs": [],
   "source": [
    "#include<stdio.h>\n",
    "void main()\n",
    "{\n",
    "    int a=5,b=0,c;\n",
    "    c=b||++a;\n",
    "    printf(\"%d\",a);\n",
    "}"
   ]
  },
  {
   "cell_type": "code",
   "execution_count": null,
   "metadata": {},
   "outputs": [],
   "source": [
    "#include<stdio.h>\n",
    "void main()\n",
    "{\n",
    "    int a=5,b=6,c,d=0;\n",
    "    c=b||a&&d;\n",
    "    printf(\"%d\",c);\n",
    "}"
   ]
  },
  {
   "cell_type": "code",
   "execution_count": null,
   "metadata": {},
   "outputs": [],
   "source": [
    "#include<stdio.h>\n",
    "void main()\n",
    "{\n",
    "    int a=5,b=6,c;\n",
    "    c=a<<6;\n",
    "    printf(\"%d\",c);\n",
    "}"
   ]
  },
  {
   "cell_type": "code",
   "execution_count": null,
   "metadata": {},
   "outputs": [],
   "source": [
    "#include<stdio.h>\n",
    "void main()\n",
    "{\n",
    " int a=5,c;\n",
    " c=~5;\n",
    " printf(\"%d\",c);\n",
    "}"
   ]
  },
  {
   "cell_type": "code",
   "execution_count": null,
   "metadata": {},
   "outputs": [],
   "source": [
    "#include<stdio.h>\n",
    "void main()\n",
    "{\n",
    " int a=5,b=5;\n",
    " if(a=b)\n",
    "  printf(\"yes\");\n",
    "else\n",
    "    printf(\"no\");\n",
    "  printf(\"%d\",a);\n",
    "}"
   ]
  }
 ],
 "metadata": {
  "kernelspec": {
   "display_name": "Python 3",
   "language": "python",
   "name": "python3"
  },
  "language_info": {
   "codemirror_mode": {
    "name": "ipython",
    "version": 3
   },
   "file_extension": ".py",
   "mimetype": "text/x-python",
   "name": "python",
   "nbconvert_exporter": "python",
   "pygments_lexer": "ipython3",
   "version": "3.7.3"
  }
 },
 "nbformat": 4,
 "nbformat_minor": 2
}
