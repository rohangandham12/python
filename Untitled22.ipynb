{
 "cells": [
  {
   "cell_type": "code",
   "execution_count": null,
   "metadata": {},
   "outputs": [],
   "source": [
    "# prime number\n",
    "#include<stdio.h>\n",
    "void main()\n",
    "{\n",
    "    int n;\n",
    "    scanf(\"%d\",&n);\n",
    "    if(n%2!=0&&n%3!=0&&n%5!=0&&n%7!=0)\n",
    "      printf(\"prime number\");\n",
    "    else\n",
    "      printf(\"Not\");\n",
    "}"
   ]
  },
  {
   "cell_type": "code",
   "execution_count": null,
   "metadata": {},
   "outputs": [],
   "source": [
    "# program of operands using switch cases\n",
    "#include<stdio.h>\n",
    "void main()\n",
    "{\n",
    "    int a,b,op;\n",
    "    scanf(\"%d%d\",&a,&b);\n",
    "    scanf(\"%d\",&op);\n",
    "    switch(op)\n",
    "{\n",
    "    case 1:printf(\"%d\",a+b);break;\n",
    "    case 2:printf(\"%d\",a-b);break;\n",
    "    case 3:printf(\"%d\",a*b);break;\n",
    "    case 4:printf(\"%d\",a/b);break;\n",
    "    case 5:printf(\"%d\",a%b);break;\n",
    "    default:printf(\"invalid input\");break;\n",
    "}\n",
    "    }\n",
    "    "
   ]
  },
  {
   "cell_type": "code",
   "execution_count": null,
   "metadata": {},
   "outputs": [],
   "source": [
    "# odd numbers\n",
    "#include<stdio.h>\n",
    "void main()\n",
    "{\n",
    "    int i;\n",
    "    \n",
    "    for(i=1;i<100;i+=2)\n",
    "printf(\"%d\",i);\n",
    "}"
   ]
  },
  {
   "cell_type": "code",
   "execution_count": null,
   "metadata": {},
   "outputs": [],
   "source": [
    "# even numbers\n",
    "#include<stdio.h>\n",
    "void main()\n",
    "{\n",
    "    int i;\n",
    "    \n",
    "    for(i=2;i<100;i+=2)\n",
    "printf(\"%d\",i);\n",
    "}"
   ]
  },
  {
   "cell_type": "code",
   "execution_count": null,
   "metadata": {},
   "outputs": [],
   "source": [
    "#include<stdio.h>\n",
    "void main()\n",
    "{\n",
    "    int n,r,s=0;\n",
    "    scanf(\"%d\",&n);\n",
    "    \n",
    "    while(n!=0)\n",
    "    {\n",
    "     r=n%10;\n",
    "     s=s+r;\n",
    "     n=n/10;\n",
    "    }\n",
    "    printf(\"%d\",s);\n",
    "}"
   ]
  }
 ],
 "metadata": {
  "kernelspec": {
   "display_name": "Python 3",
   "language": "python",
   "name": "python3"
  },
  "language_info": {
   "codemirror_mode": {
    "name": "ipython",
    "version": 3
   },
   "file_extension": ".py",
   "mimetype": "text/x-python",
   "name": "python",
   "nbconvert_exporter": "python",
   "pygments_lexer": "ipython3",
   "version": "3.7.3"
  }
 },
 "nbformat": 4,
 "nbformat_minor": 2
}
