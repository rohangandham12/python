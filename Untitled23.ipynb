{
 "cells": [
  {
   "cell_type": "code",
   "execution_count": null,
   "metadata": {},
   "outputs": [],
   "source": [
    "#include<stdio.h>\n",
    "void main()\n",
    "{\n",
    "    int n,i,c,range;\n",
    "    scanf(\"%d\",&range);\n",
    "    for(n=2;n<=range;n++)\n",
    "    {\n",
    "        c=0;\n",
    "        for(i=2;i<n/2;i++)\n",
    "    {\n",
    "      if(n%i==0)\n",
    "      c++;\n",
    "    }\n",
    "    if(c==0)\n",
    "    printf(\"%d\",n);\n",
    "    }\n",
    "}    "
   ]
  },
  {
   "cell_type": "code",
   "execution_count": null,
   "metadata": {},
   "outputs": [],
   "source": [
    "# nth prime number\n",
    "#include<stdio.h>\n",
    "void main()\n",
    "{\n",
    "    int n,i,c,range,s=0,count=0,k;\n",
    "    scanf(\"%d\",&k);\n",
    "    for(n=2;count<k;n++)\n",
    "    {\n",
    "        c=0;\n",
    "        for(i=2;i<=n/2;i++)\n",
    "    {\n",
    "      if(n%i==0)\n",
    "      c++;\n",
    "    }\n",
    "    if(c==0)\n",
    "    {\n",
    "       count++;\n",
    "      \n",
    "    }\n",
    "    }\n",
    "    printf(\"%d=%d\\t\",count,n-1);\n",
    "}"
   ]
  },
  {
   "cell_type": "code",
   "execution_count": null,
   "metadata": {},
   "outputs": [],
   "source": [
    "#fibonacci series\n",
    "#include<stdio.h>\n",
    "void main()\n",
    "{\n",
    "    int n,f1=0,f2=1,f3,i,c;\n",
    "    scanf(\"%d\",&n);\n",
    "    if(n==1)\n",
    "    c=printf(\"%d\",f1);\n",
    "    else\n",
    "    {\n",
    "    for(i=3;i<=n;i++)\n",
    "    {\n",
    "        f3=f1+f2;\n",
    "    \n",
    "    f1=f2;\n",
    "    f2=f3;\n",
    "    }\n",
    "    c=printf(\"%d\",f2);\n",
    "    }\n",
    "    printf(\"\\n%d\",c);\n",
    "}\n"
   ]
  },
  {
   "cell_type": "code",
   "execution_count": null,
   "metadata": {},
   "outputs": [],
   "source": [
    "#include<stdio.h>\n",
    "void main()\n",
    "{\n",
    "    int i,j;\n",
    "    for(i=1;i<=5;i++)\n",
    "    {\n",
    "        for(j=1;j<i;j++)\n",
    "          \n",
    "          \n",
    "          {\n",
    "              printf(\"%d\",i);\n",
    "              if(j<i)\n",
    "              printf(\"*\");\n",
    "          }\n",
    "    printf(\"\\n\");\n",
    "    }\n",
    "    for(i=4;i>=1;i--)\n",
    "    {\n",
    "        for(j=1;j<=i;j++)\n",
    "        \n",
    "       {\n",
    "           printf(\"%d\",i);\n",
    "           if(j<i)\n",
    "           printf(\"*\");\n",
    "       } \n",
    "    printf(\"\\n\");\n",
    "    }\n",
    "}    "
   ]
  }
 ],
 "metadata": {
  "kernelspec": {
   "display_name": "Python 3",
   "language": "python",
   "name": "python3"
  },
  "language_info": {
   "codemirror_mode": {
    "name": "ipython",
    "version": 3
   },
   "file_extension": ".py",
   "mimetype": "text/x-python",
   "name": "python",
   "nbconvert_exporter": "python",
   "pygments_lexer": "ipython3",
   "version": "3.7.3"
  }
 },
 "nbformat": 4,
 "nbformat_minor": 2
}
